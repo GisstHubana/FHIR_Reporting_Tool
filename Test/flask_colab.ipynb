{
  "nbformat": 4,
  "nbformat_minor": 0,
  "metadata": {
    "colab": {
      "provenance": [],
      "authorship_tag": "ABX9TyNLryOAqM8Iuj5afg8BwZIm",
      "include_colab_link": true
    },
    "kernelspec": {
      "name": "python3",
      "display_name": "Python 3"
    },
    "language_info": {
      "name": "python"
    }
  },
  "cells": [
    {
      "cell_type": "markdown",
      "metadata": {
        "id": "view-in-github",
        "colab_type": "text"
      },
      "source": [
        "<a href=\"https://colab.research.google.com/github/GisstHubana/FHIR_Reporting_Tool/blob/GisstHubana-patch-2/Test/flask_colab.ipynb\" target=\"_parent\"><img src=\"https://colab.research.google.com/assets/colab-badge.svg\" alt=\"Open In Colab\"/></a>"
      ]
    },
    {
      "cell_type": "markdown",
      "source": [
        "# Vorbereitungen\n",
        "\n",
        "## Installieren notwendiger Pakete"
      ],
      "metadata": {
        "id": "yEoY0ANRO1GQ"
      }
    },
    {
      "cell_type": "code",
      "source": [
        "!pip install pyngrok\n",
        "!pip install flask-ngrok"
      ],
      "metadata": {
        "id": "2ZAE6N8o8wD_"
      },
      "execution_count": null,
      "outputs": []
    },
    {
      "cell_type": "markdown",
      "source": [
        "## gnrok mit Authorizierungstoken verknüpfen"
      ],
      "metadata": {
        "id": "w1VUV_8dO_UQ"
      }
    },
    {
      "cell_type": "code",
      "source": [
        "!ngrok authtoken 2Wlt2vGzytTpJ6zABKGKKwfiTof_7y4sewzGkNGy7zW6GB5oz"
      ],
      "metadata": {
        "id": "KGRrCtnKGha4"
      },
      "execution_count": null,
      "outputs": []
    },
    {
      "cell_type": "markdown",
      "source": [
        "## Importieren notwendiger Libraries"
      ],
      "metadata": {
        "id": "jkSwLbxyPHn_"
      }
    },
    {
      "cell_type": "code",
      "execution_count": null,
      "metadata": {
        "id": "wvkrD8dY8lE3"
      },
      "outputs": [],
      "source": [
        "from flask import Flask\n",
        "from flask_ngrok import run_with_ngrok"
      ]
    },
    {
      "cell_type": "markdown",
      "source": [
        "# Erstellung einer Flask-App"
      ],
      "metadata": {
        "id": "EGkNVLjuPOCY"
      }
    },
    {
      "cell_type": "code",
      "source": [
        "app = Flask(__name__) #Erstellung einer Flask-App\n",
        "run_with_ngrok(app)  # Initialize ngrok when the app is run\n",
        "\n",
        "# app.debug = True #Debug-Modus aktivieren - webseite lädt nicht wenn eingeschaltet\n",
        "# # Im Debug-Modus wird jeder Fehler, der in der Anwendung auftritt, im Browser angezeigt, zusammen mit einem ausführlichen Traceback.\n",
        "# # Achtung: Debug-Modus nicht in einer öffentlichen Umgebung aktiviert lassen, da dies Sicherheitslücken eröffnen kann - nur zu Entwicklungs- und Debugging-Zwecken verwenden\n",
        "\n",
        "@app.route('/') #Erstellung einer einfachen Routendefinition, um sicherzustellen, dass der Server funktionier\n",
        "@app.route('/home')\n",
        "def home():\n",
        "    return \"<h1>Home Page</h1>\"\n",
        "\n",
        "@app.route('/about') #Erstellung einer Routendefinition \"About\"\n",
        "def about():\n",
        "    return \"<h1>About Page</h1>\"\n",
        "\n",
        "if __name__ == '__main__': # Starten des Flask-Servers\n",
        "  app.run() # If address is in use, may need to terminate other sessions:\n",
        "              # Runtime > Manage Sessions > Terminate Other Sessions"
      ],
      "metadata": {
        "id": "PUe3NXkA88aB"
      },
      "execution_count": null,
      "outputs": []
    }
  ]
}