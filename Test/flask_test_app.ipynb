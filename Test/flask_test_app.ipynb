{
  "nbformat": 4,
  "nbformat_minor": 0,
  "metadata": {
    "colab": {
      "provenance": [],
      "authorship_tag": "ABX9TyMIgQz4B5ZZr6rvvHZMdBwv",
      "include_colab_link": true
    },
    "kernelspec": {
      "name": "python3",
      "display_name": "Python 3"
    },
    "language_info": {
      "name": "python"
    }
  },
  "cells": [
    {
      "cell_type": "markdown",
      "metadata": {
        "id": "view-in-github",
        "colab_type": "text"
      },
      "source": [
        "<a href=\"https://colab.research.google.com/github/GisstHubana/FHIR_Reporting_Tool/blob/main/Test/flask_test_app.ipynb\" target=\"_parent\"><img src=\"https://colab.research.google.com/assets/colab-badge.svg\" alt=\"Open In Colab\"/></a>"
      ]
    },
    {
      "cell_type": "markdown",
      "source": [
        "Erstellung der Flask-Test-App mittels web-tutorial\n",
        "https://www.youtube.com/watch?v=MwZwr5Tvyxo&list=PL-osiE80TeTs4UjLw5MM6OjgkjFeUxCYH\n"
      ],
      "metadata": {
        "id": "OERtrf7xvmud"
      }
    },
    {
      "cell_type": "markdown",
      "source": [
        "# Vorbereitung\n",
        "CleanUp - Eventuell gespeicherte Variablen löschen vor Ausführung des Colab books für eine bessere Reproduzierbarkeit"
      ],
      "metadata": {
        "id": "HQXhEho4mh6z"
      }
    },
    {
      "cell_type": "code",
      "source": [
        "%reset -f"
      ],
      "metadata": {
        "id": "4OHw0Sy-X9zN"
      },
      "execution_count": null,
      "outputs": []
    },
    {
      "cell_type": "markdown",
      "source": [
        "Installieren notwendiger Pakete"
      ],
      "metadata": {
        "id": "P3aygElyXcjP"
      }
    },
    {
      "cell_type": "code",
      "execution_count": null,
      "metadata": {
        "id": "mku7IKOrvlSi"
      },
      "outputs": [],
      "source": [
        "pip install flask"
      ]
    },
    {
      "cell_type": "markdown",
      "source": [
        "Importieren der notwendigen Libraries"
      ],
      "metadata": {
        "id": "GsstcSbumzlw"
      }
    },
    {
      "cell_type": "code",
      "source": [
        "import flask\n",
        "import os"
      ],
      "metadata": {
        "id": "F2Hi1FLWY8hy"
      },
      "execution_count": null,
      "outputs": []
    },
    {
      "cell_type": "markdown",
      "source": [
        "Erstellung einer virtuellen Kopie des GitHub Repositorium FHIR_Reporting_Tool in Colab"
      ],
      "metadata": {
        "id": "10bUHuzcm_zr"
      }
    },
    {
      "cell_type": "code",
      "source": [
        "!git clone https://github.com/GisstHubana/FHIR_Reporting_Tool.git"
      ],
      "metadata": {
        "id": "nTXaZsiLnJK7"
      },
      "execution_count": null,
      "outputs": []
    },
    {
      "cell_type": "code",
      "source": [
        "# Wechsel in den Unterordner csv_data des Github-Projekt-Ordners\n",
        "%cd /content/FHIR_Reporting_Tool/Test"
      ],
      "metadata": {
        "id": "Aw37T6XanYYj"
      },
      "execution_count": null,
      "outputs": []
    },
    {
      "cell_type": "code",
      "source": [
        "# Auflistung aller Ordnerinhalte\n",
        "!ls"
      ],
      "metadata": {
        "id": "cfGc7G02n02h"
      },
      "execution_count": null,
      "outputs": []
    },
    {
      "cell_type": "markdown",
      "source": [
        "Erstellung eines neuen Ordner \"Flask_Blog\" - nur benötigt falls Ordner in virtueller Umgebung nicht schon vorhanden"
      ],
      "metadata": {
        "id": "sdlmp3zdb1SN"
      }
    },
    {
      "cell_type": "code",
      "source": [
        "# os.mkdir(\"/content/FHIR_Reporting_Tool/Test/Flask_Blog\") #nur bei initialer Ausführung benötigt"
      ],
      "metadata": {
        "id": "s3gQcui0b7nV"
      },
      "execution_count": null,
      "outputs": []
    },
    {
      "cell_type": "markdown",
      "source": [
        "Wechseln in den Unterordner \"Flask_Blog\""
      ],
      "metadata": {
        "id": "xAv6evddzCTx"
      }
    },
    {
      "cell_type": "code",
      "source": [
        "%cd Flask_Blog"
      ],
      "metadata": {
        "id": "0sMEqVpKy5zO"
      },
      "execution_count": null,
      "outputs": []
    },
    {
      "cell_type": "code",
      "source": [
        "set FLASK_APP=flaskblog.py"
      ],
      "metadata": {
        "id": "2FRYIWARzKvd"
      },
      "execution_count": null,
      "outputs": []
    }
  ]
}