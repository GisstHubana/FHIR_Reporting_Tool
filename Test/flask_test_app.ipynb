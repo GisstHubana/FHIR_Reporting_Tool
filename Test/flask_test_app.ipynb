{
  "nbformat": 4,
  "nbformat_minor": 0,
  "metadata": {
    "colab": {
      "provenance": [],
      "authorship_tag": "ABX9TyPSKq/ZCqmoFdw9s/8bi3Y/",
      "include_colab_link": true
    },
    "kernelspec": {
      "name": "python3",
      "display_name": "Python 3"
    },
    "language_info": {
      "name": "python"
    }
  },
  "cells": [
    {
      "cell_type": "markdown",
      "metadata": {
        "id": "view-in-github",
        "colab_type": "text"
      },
      "source": [
        "<a href=\"https://colab.research.google.com/github/GisstHubana/FHIR_Reporting_Tool/blob/main/Test/flask_test_app.ipynb\" target=\"_parent\"><img src=\"https://colab.research.google.com/assets/colab-badge.svg\" alt=\"Open In Colab\"/></a>"
      ]
    },
    {
      "cell_type": "markdown",
      "source": [
        "Erstellung der Flask-Test-App mittels web-tutorial\n",
        "https://www.youtube.com/watch?v=MwZwr5Tvyxo&list=PL-osiE80TeTs4UjLw5MM6OjgkjFeUxCYH\n"
      ],
      "metadata": {
        "id": "OERtrf7xvmud"
      }
    },
    {
      "cell_type": "markdown",
      "source": [
        "# Vorbereitung\n",
        "CleanUp - Eventuell gespeicherte Variablen löschen vor Ausführung des Colab books für eine bessere Reproduzierbarkeit"
      ],
      "metadata": {
        "id": "HQXhEho4mh6z"
      }
    },
    {
      "cell_type": "code",
      "source": [
        "%reset -f"
      ],
      "metadata": {
        "id": "4OHw0Sy-X9zN"
      },
      "execution_count": 1,
      "outputs": []
    },
    {
      "cell_type": "markdown",
      "source": [
        "Installieren notwendiger Pakete"
      ],
      "metadata": {
        "id": "P3aygElyXcjP"
      }
    },
    {
      "cell_type": "code",
      "execution_count": 2,
      "metadata": {
        "id": "mku7IKOrvlSi",
        "outputId": "392ffb85-f015-4277-a5fb-b3e3a7be6533",
        "colab": {
          "base_uri": "https://localhost:8080/"
        }
      },
      "outputs": [
        {
          "output_type": "stream",
          "name": "stdout",
          "text": [
            "Requirement already satisfied: flask in /usr/local/lib/python3.10/dist-packages (2.2.5)\n",
            "Requirement already satisfied: Werkzeug>=2.2.2 in /usr/local/lib/python3.10/dist-packages (from flask) (3.0.0)\n",
            "Requirement already satisfied: Jinja2>=3.0 in /usr/local/lib/python3.10/dist-packages (from flask) (3.1.2)\n",
            "Requirement already satisfied: itsdangerous>=2.0 in /usr/local/lib/python3.10/dist-packages (from flask) (2.1.2)\n",
            "Requirement already satisfied: click>=8.0 in /usr/local/lib/python3.10/dist-packages (from flask) (8.1.7)\n",
            "Requirement already satisfied: MarkupSafe>=2.0 in /usr/local/lib/python3.10/dist-packages (from Jinja2>=3.0->flask) (2.1.3)\n"
          ]
        }
      ],
      "source": [
        "pip install flask"
      ]
    },
    {
      "cell_type": "markdown",
      "source": [
        "Importieren der notwendigen Libraries"
      ],
      "metadata": {
        "id": "GsstcSbumzlw"
      }
    },
    {
      "cell_type": "code",
      "source": [
        "import flask\n",
        "import os"
      ],
      "metadata": {
        "id": "F2Hi1FLWY8hy"
      },
      "execution_count": 3,
      "outputs": []
    },
    {
      "cell_type": "markdown",
      "source": [
        "Erstellung einer virtuellen Kopie des GitHub Repositorium FHIR_Reporting_Tool in Colab"
      ],
      "metadata": {
        "id": "10bUHuzcm_zr"
      }
    },
    {
      "cell_type": "code",
      "source": [
        "!git clone https://github.com/GisstHubana/FHIR_Reporting_Tool.git"
      ],
      "metadata": {
        "id": "nTXaZsiLnJK7",
        "outputId": "6b595dbf-3dfc-4bf3-b769-89cdf473e649",
        "colab": {
          "base_uri": "https://localhost:8080/"
        }
      },
      "execution_count": 4,
      "outputs": [
        {
          "output_type": "stream",
          "name": "stdout",
          "text": [
            "Cloning into 'FHIR_Reporting_Tool'...\n",
            "remote: Enumerating objects: 61, done.\u001b[K\n",
            "remote: Counting objects: 100% (61/61), done.\u001b[K\n",
            "remote: Compressing objects: 100% (59/59), done.\u001b[K\n",
            "remote: Total 61 (delta 27), reused 0 (delta 0), pack-reused 0\u001b[K\n",
            "Receiving objects: 100% (61/61), 18.75 KiB | 3.12 MiB/s, done.\n",
            "Resolving deltas: 100% (27/27), done.\n"
          ]
        }
      ]
    },
    {
      "cell_type": "code",
      "source": [
        "# Wechsel in den Unterordner csv_data des Github-Projekt-Ordners\n",
        "%cd /content/FHIR_Reporting_Tool/Test"
      ],
      "metadata": {
        "id": "Aw37T6XanYYj",
        "outputId": "0d0d81db-8e61-4c58-e5dd-710983042119",
        "colab": {
          "base_uri": "https://localhost:8080/"
        }
      },
      "execution_count": 5,
      "outputs": [
        {
          "output_type": "stream",
          "name": "stdout",
          "text": [
            "/content/FHIR_Reporting_Tool/Test\n"
          ]
        }
      ]
    },
    {
      "cell_type": "code",
      "source": [
        "# Auflistung aller Ordnerinhalte\n",
        "!ls"
      ],
      "metadata": {
        "id": "cfGc7G02n02h",
        "outputId": "ba29655b-d0bf-451e-c181-c817615d0297",
        "colab": {
          "base_uri": "https://localhost:8080/"
        }
      },
      "execution_count": 6,
      "outputs": [
        {
          "output_type": "stream",
          "name": "stdout",
          "text": [
            "Flask_Blog  flask_test_app.ipynb\n"
          ]
        }
      ]
    },
    {
      "cell_type": "markdown",
      "source": [
        "Erstellung eines neuen Ordner \"Flask_Blog\" - nur benötigt falls Ordner in virtueller Umgebung nicht schon vorhanden"
      ],
      "metadata": {
        "id": "sdlmp3zdb1SN"
      }
    },
    {
      "cell_type": "code",
      "source": [
        "# os.mkdir(\"/content/FHIR_Reporting_Tool/Test/Flask_Blog\") #nur bei initialer Ausführung benötigt"
      ],
      "metadata": {
        "id": "s3gQcui0b7nV"
      },
      "execution_count": 7,
      "outputs": []
    }
  ]
}