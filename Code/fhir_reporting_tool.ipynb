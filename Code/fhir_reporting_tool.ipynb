{
  "nbformat": 4,
  "nbformat_minor": 0,
  "metadata": {
    "colab": {
      "provenance": [],
      "include_colab_link": true
    },
    "kernelspec": {
      "name": "python3",
      "display_name": "Python 3"
    },
    "language_info": {
      "name": "python"
    }
  },
  "cells": [
    {
      "cell_type": "markdown",
      "metadata": {
        "id": "view-in-github",
        "colab_type": "text"
      },
      "source": [
        "<a href=\"https://colab.research.google.com/github/GisstHubana/FHIR_Reporting_Tool/blob/GisstHubana-patch-html/Code/fhir_reporting_tool.ipynb\" target=\"_parent\"><img src=\"https://colab.research.google.com/assets/colab-badge.svg\" alt=\"Open In Colab\"/></a>"
      ]
    },
    {
      "cell_type": "markdown",
      "source": [
        "# Vorbereitung\n",
        "## CleanUp - Eventuell gespeicherte Variablen löschen vor Ausführung des Colab books für eine bessere Reproduzierbarkeit"
      ],
      "metadata": {
        "id": "HQXhEho4mh6z"
      }
    },
    {
      "cell_type": "code",
      "execution_count": 1,
      "metadata": {
        "id": "oVfQdEd9mZ6g"
      },
      "outputs": [],
      "source": [
        "%reset -f"
      ]
    },
    {
      "cell_type": "markdown",
      "source": [
        "## Installieren notwendiger Pakete"
      ],
      "metadata": {
        "id": "yEoY0ANRO1GQ"
      }
    },
    {
      "cell_type": "code",
      "source": [
        "!pip install pyngrok\n",
        "!pip install flask-ngrok"
      ],
      "metadata": {
        "id": "2ZAE6N8o8wD_",
        "outputId": "00be4917-3340-48a6-9200-81429ce483b6",
        "colab": {
          "base_uri": "https://localhost:8080/"
        }
      },
      "execution_count": 2,
      "outputs": [
        {
          "output_type": "stream",
          "name": "stdout",
          "text": [
            "Collecting pyngrok\n",
            "  Downloading pyngrok-7.0.0.tar.gz (718 kB)\n",
            "\u001b[?25l     \u001b[90m━━━━━━━━━━━━━━━━━━━━━━━━━━━━━━━━━━━━━━━━\u001b[0m \u001b[32m0.0/718.7 kB\u001b[0m \u001b[31m?\u001b[0m eta \u001b[36m-:--:--\u001b[0m\r\u001b[2K     \u001b[91m━━━━━━\u001b[0m\u001b[90m╺\u001b[0m\u001b[90m━━━━━━━━━━━━━━━━━━━━━━━━━━━━━━━━━\u001b[0m \u001b[32m112.6/718.7 kB\u001b[0m \u001b[31m3.1 MB/s\u001b[0m eta \u001b[36m0:00:01\u001b[0m\r\u001b[2K     \u001b[91m━━━━━━━━━━━━━━━━━━━━━━━━━━━━━━━━━━━━━━━\u001b[0m\u001b[91m╸\u001b[0m \u001b[32m716.8/718.7 kB\u001b[0m \u001b[31m10.9 MB/s\u001b[0m eta \u001b[36m0:00:01\u001b[0m\r\u001b[2K     \u001b[90m━━━━━━━━━━━━━━━━━━━━━━━━━━━━━━━━━━━━━━━━\u001b[0m \u001b[32m718.7/718.7 kB\u001b[0m \u001b[31m9.4 MB/s\u001b[0m eta \u001b[36m0:00:00\u001b[0m\n",
            "\u001b[?25h  Preparing metadata (setup.py) ... \u001b[?25l\u001b[?25hdone\n",
            "Requirement already satisfied: PyYAML in /usr/local/lib/python3.10/dist-packages (from pyngrok) (6.0.1)\n",
            "Building wheels for collected packages: pyngrok\n",
            "  Building wheel for pyngrok (setup.py) ... \u001b[?25l\u001b[?25hdone\n",
            "  Created wheel for pyngrok: filename=pyngrok-7.0.0-py3-none-any.whl size=21129 sha256=880f57fbac46bf96df6d43d8f278f0c9136d7a75cc1d423e374790b8bc8a7359\n",
            "  Stored in directory: /root/.cache/pip/wheels/60/29/7b/f64332aa7e5e88fbd56d4002185ae22dcdc83b35b3d1c2cbf5\n",
            "Successfully built pyngrok\n",
            "Installing collected packages: pyngrok\n",
            "Successfully installed pyngrok-7.0.0\n",
            "Collecting flask-ngrok\n",
            "  Downloading flask_ngrok-0.0.25-py3-none-any.whl (3.1 kB)\n",
            "Requirement already satisfied: Flask>=0.8 in /usr/local/lib/python3.10/dist-packages (from flask-ngrok) (2.2.5)\n",
            "Requirement already satisfied: requests in /usr/local/lib/python3.10/dist-packages (from flask-ngrok) (2.31.0)\n",
            "Requirement already satisfied: Werkzeug>=2.2.2 in /usr/local/lib/python3.10/dist-packages (from Flask>=0.8->flask-ngrok) (3.0.1)\n",
            "Requirement already satisfied: Jinja2>=3.0 in /usr/local/lib/python3.10/dist-packages (from Flask>=0.8->flask-ngrok) (3.1.2)\n",
            "Requirement already satisfied: itsdangerous>=2.0 in /usr/local/lib/python3.10/dist-packages (from Flask>=0.8->flask-ngrok) (2.1.2)\n",
            "Requirement already satisfied: click>=8.0 in /usr/local/lib/python3.10/dist-packages (from Flask>=0.8->flask-ngrok) (8.1.7)\n",
            "Requirement already satisfied: charset-normalizer<4,>=2 in /usr/local/lib/python3.10/dist-packages (from requests->flask-ngrok) (3.3.1)\n",
            "Requirement already satisfied: idna<4,>=2.5 in /usr/local/lib/python3.10/dist-packages (from requests->flask-ngrok) (3.4)\n",
            "Requirement already satisfied: urllib3<3,>=1.21.1 in /usr/local/lib/python3.10/dist-packages (from requests->flask-ngrok) (2.0.7)\n",
            "Requirement already satisfied: certifi>=2017.4.17 in /usr/local/lib/python3.10/dist-packages (from requests->flask-ngrok) (2023.7.22)\n",
            "Requirement already satisfied: MarkupSafe>=2.0 in /usr/local/lib/python3.10/dist-packages (from Jinja2>=3.0->Flask>=0.8->flask-ngrok) (2.1.3)\n",
            "Installing collected packages: flask-ngrok\n",
            "Successfully installed flask-ngrok-0.0.25\n"
          ]
        }
      ]
    },
    {
      "cell_type": "markdown",
      "source": [
        "## gnrok mit Authorizierungstoken verknüpfen"
      ],
      "metadata": {
        "id": "w1VUV_8dO_UQ"
      }
    },
    {
      "cell_type": "code",
      "source": [
        "!ngrok authtoken 2Wlt2vGzytTpJ6zABKGKKwfiTof_7y4sewzGkNGy7zW6GB5oz"
      ],
      "metadata": {
        "id": "KGRrCtnKGha4",
        "outputId": "e9f94cad-6cee-4d21-8b51-8158f8b1b8b0",
        "colab": {
          "base_uri": "https://localhost:8080/"
        }
      },
      "execution_count": 3,
      "outputs": [
        {
          "output_type": "stream",
          "name": "stdout",
          "text": [
            "Authtoken saved to configuration file: /root/.ngrok2/ngrok.yml\n"
          ]
        }
      ]
    },
    {
      "cell_type": "markdown",
      "source": [
        "Importieren der notwendigen Libraries"
      ],
      "metadata": {
        "id": "GsstcSbumzlw"
      }
    },
    {
      "cell_type": "code",
      "source": [
        "from flask import Flask, request, render_template\n",
        "from flask_ngrok import run_with_ngrok\n",
        "import secrets\n",
        "import sqlite3"
      ],
      "metadata": {
        "id": "mQFUXdj2m2zl"
      },
      "execution_count": 4,
      "outputs": []
    },
    {
      "cell_type": "markdown",
      "source": [
        "Erstellung einer virtuellen Kopie des GitHub Repositorium FHIR_Reporting_Tool in Colab"
      ],
      "metadata": {
        "id": "10bUHuzcm_zr"
      }
    },
    {
      "cell_type": "code",
      "source": [
        "%cd /content # Wechsel in den Ordner /content - für den Fall, dass in einem Unterordner gearbeitet wurde\n",
        "\n",
        "!git clone https://github.com/GisstHubana/FHIR_Reporting_Tool.git #virtuelle Kopie des Repositoriums - Bei Neustart zuvor Runtime/disconnect and delete runtime ausführen\n",
        "!ls # Auflistung aller Ordnerinhalte"
      ],
      "metadata": {
        "id": "nTXaZsiLnJK7",
        "outputId": "1993d89b-01a4-4cda-82f8-b9d1ae707fa9",
        "colab": {
          "base_uri": "https://localhost:8080/"
        }
      },
      "execution_count": 5,
      "outputs": [
        {
          "output_type": "stream",
          "name": "stdout",
          "text": [
            "[Errno 2] No such file or directory: '/content # Wechsel in den Ordner /content - für den Fall, dass in einem Unterordner gearbeitet wurde'\n",
            "/content\n",
            "Cloning into 'FHIR_Reporting_Tool'...\n",
            "remote: Enumerating objects: 318, done.\u001b[K\n",
            "remote: Counting objects: 100% (220/220), done.\u001b[K\n",
            "remote: Compressing objects: 100% (194/194), done.\u001b[K\n",
            "remote: Total 318 (delta 140), reused 23 (delta 23), pack-reused 98\u001b[K\n",
            "Receiving objects: 100% (318/318), 71.41 KiB | 746.00 KiB/s, done.\n",
            "Resolving deltas: 100% (172/172), done.\n",
            "FHIR_Reporting_Tool  sample_data\n"
          ]
        }
      ]
    },
    {
      "cell_type": "markdown",
      "source": [
        "### Database in Flask\n",
        "\n",
        "#### Use database to match login credentials"
      ],
      "metadata": {
        "id": "h7w2-5X-DMqy"
      }
    },
    {
      "cell_type": "code",
      "source": [
        "db_folder = \"/content/FHIR_Reporting_Tool/\"\n",
        "conn = sqlite3.connect(db_folder+\"mydatabase.db\") # falls Datenbank noch nicht existiert wird sie mit diesem Aufruf erzeugt\n",
        "cursor = conn.cursor()\n",
        "\n",
        "#query\n",
        "create_table_query = \"\"\"\n",
        "CREATE TABLE IF NOT EXISTS users (\n",
        "  id INTEGER PRIMARY KEY AUTOINCREMENT,\n",
        "  username TEXT NOT NULL,\n",
        "  password TEXT NOT NULL\n",
        "\n",
        ")\n",
        "\n",
        "\"\"\"\n",
        "cursor.execute(create_table_query)\n",
        "\n",
        "insert_query = \"\"\"\n",
        "INSERT INTO users(username, password)\n",
        "SELECT ?, ?\n",
        "WHERE NOT EXISTS (\n",
        "  SELECT 1 FROM users WHERE username = ?\n",
        "\n",
        ")\n",
        "\"\"\"\n",
        "user_data = (\"USER3\", \"1234\", \"USER3\")\n",
        "cursor.execute(insert_query, user_data)\n",
        "conn.commit()\n",
        "\n",
        "select_query = \"SELECT * FROM users\"\n",
        "cursor.execute(select_query)\n",
        "rows = cursor.fetchall()\n",
        "for row in rows:\n",
        "  print(row)\n"
      ],
      "metadata": {
        "id": "fRU8bH4yDTIZ",
        "outputId": "0de99d1c-6a08-4942-84b4-f7e66507afcb",
        "colab": {
          "base_uri": "https://localhost:8080/"
        }
      },
      "execution_count": 6,
      "outputs": [
        {
          "output_type": "stream",
          "name": "stdout",
          "text": [
            "(1, 'USER3', '1234')\n"
          ]
        }
      ]
    },
    {
      "cell_type": "code",
      "source": [],
      "metadata": {
        "id": "o03Mwnh3rKO4"
      },
      "execution_count": 6,
      "outputs": []
    },
    {
      "cell_type": "code",
      "source": [
        "template_folder = \"/content/FHIR_Reporting_Tool/templates\"\n",
        "static_folder = \"/content/FHIR_Reporting_Tool/static\"\n",
        "db_folder = \"/content/FHIR_Reporting_Tool/\"\n",
        "app = Flask(__name__, template_folder=template_folder, static_folder=static_folder) # Flask-App, Benennung template-Ordner\n",
        "app.secret_key = secrets.token_hex(32)\n",
        "run_with_ngrok(app) # run_with_ngrok Funktion hinzufügen, um App mit ngrok auszuführen\n",
        "\n",
        "conn = sqlite3.connect(db_folder+\"mydatabase.db\") # falls Datenbank noch nicht existiert wird sie mit diesem Aufruf erzeugt\n",
        "cursor = conn.cursor()\n",
        "\n",
        "@app.route('/query', methods=['POST'])\n",
        "def query():\n",
        "    query = request.form.get('query')\n",
        "    cursor.execute(query)\n",
        "    result = cursor.fetchall()\n",
        "    return render_template('result_fhir.html', result=result)\n",
        "\n",
        "@app.route('/') # Erstellung einer Routendefinition\n",
        "def index():\n",
        "    return render_template(\"index_fhir.html\")\n",
        "\n",
        "if __name__ == '__main__': # Starten der Flask-Anwendung\n",
        "  app.run()"
      ],
      "metadata": {
        "outputId": "175ca937-d256-4eed-cde0-87bec9a745df",
        "colab": {
          "base_uri": "https://localhost:8080/"
        },
        "id": "3Z2XpIYLrKkE"
      },
      "execution_count": 9,
      "outputs": [
        {
          "output_type": "stream",
          "name": "stdout",
          "text": [
            " * Serving Flask app '__main__'\n",
            " * Debug mode: off\n"
          ]
        },
        {
          "output_type": "stream",
          "name": "stderr",
          "text": [
            "INFO:werkzeug:\u001b[31m\u001b[1mWARNING: This is a development server. Do not use it in a production deployment. Use a production WSGI server instead.\u001b[0m\n",
            " * Running on http://127.0.0.1:5000\n",
            "INFO:werkzeug:\u001b[33mPress CTRL+C to quit\u001b[0m\n"
          ]
        },
        {
          "output_type": "stream",
          "name": "stdout",
          "text": [
            " * Running on http://e3ef-34-80-167-108.ngrok-free.app\n",
            " * Traffic stats available on http://127.0.0.1:4040\n"
          ]
        },
        {
          "output_type": "stream",
          "name": "stderr",
          "text": [
            "INFO:werkzeug:127.0.0.1 - - [03/Nov/2023 01:07:05] \"GET / HTTP/1.1\" 200 -\n",
            "INFO:werkzeug:127.0.0.1 - - [03/Nov/2023 01:07:06] \"\u001b[33mGET /favicon.ico HTTP/1.1\u001b[0m\" 404 -\n",
            "ERROR:__main__:Exception on /query [POST]\n",
            "Traceback (most recent call last):\n",
            "  File \"/usr/local/lib/python3.10/dist-packages/flask/app.py\", line 2529, in wsgi_app\n",
            "    response = self.full_dispatch_request()\n",
            "  File \"/usr/local/lib/python3.10/dist-packages/flask/app.py\", line 1825, in full_dispatch_request\n",
            "    rv = self.handle_user_exception(e)\n",
            "  File \"/usr/local/lib/python3.10/dist-packages/flask/app.py\", line 1823, in full_dispatch_request\n",
            "    rv = self.dispatch_request()\n",
            "  File \"/usr/local/lib/python3.10/dist-packages/flask/app.py\", line 1799, in dispatch_request\n",
            "    return self.ensure_sync(self.view_functions[rule.endpoint])(**view_args)\n",
            "  File \"<ipython-input-9-371b0537880b>\", line 14, in query\n",
            "    cursor.execute(query)\n",
            "sqlite3.ProgrammingError: SQLite objects created in a thread can only be used in that same thread. The object was created in thread id 134645056823296 and this is thread id 134644624774720.\n",
            "INFO:werkzeug:127.0.0.1 - - [03/Nov/2023 01:07:08] \"\u001b[35m\u001b[1mPOST /query HTTP/1.1\u001b[0m\" 500 -\n"
          ]
        }
      ]
    },
    {
      "cell_type": "code",
      "source": [
        "template_folder = \"/content/FHIR_Reporting_Tool/templates\"\n",
        "static_folder = \"/content/FHIR_Reporting_Tool/static\"\n",
        "db_folder = \"/content/FHIR_Reporting_Tool/\"\n",
        "app = Flask(__name__, template_folder=template_folder, static_folder=static_folder) # Flask-App, Benennung template-Ordner\n",
        "# app.debug = True # Debug-Modus aktivieren - webseite lädt nicht wenn eingeschaltet\n",
        "app.secret_key = secrets.token_hex(32)\n",
        "run_with_ngrok(app) # run_with_ngrok Funktion hinzufügen, um App mit ngrok auszuführen\n",
        "\n",
        "@app.route('/', methods=[\"GET\", \"POST\"])\n",
        "def login():\n",
        "\n",
        "  if request.method == \"POST\":\n",
        "    username = request.form.get(\"username\")\n",
        "    password = request.form.get(\"password\")\n",
        "\n",
        "    conn = sqlite3.connect(db_folder+\"mydatabase.db\") # falls Datenbank noch nicht existiert wird sie mit diesem Aufruf erzeugt\n",
        "    cursor = conn.cursor()\n",
        "    # query\n",
        "    query = \"\"\"\n",
        "    SELECT * FROM users WHERE username = ? AND password = ?\n",
        "    \"\"\"\n",
        "    cursor.execute(query, (username, password))\n",
        "    result = cursor.fetchone()\n",
        "\n",
        "    if result:\n",
        "     return render_template(\"page2.html\", name=username)\n",
        "    else:\n",
        "      message = \"Wrong username or password. Please try again!\"\n",
        "      return render_template(\"login.html\", message=message)\n",
        "\n",
        "  else:\n",
        "    return render_template(\"login.html\")\n",
        "\n",
        "@app.route('/home') # Erstellung einer Routendefinition home\n",
        "def index():\n",
        "    return render_template(\"index.html\")\n",
        "\n",
        "@app.route('/page2')\n",
        "def page2():\n",
        "    username = input(\"Enter your name:\")\n",
        "    return render_template(\"page2.html\", name=username)\n",
        "\n",
        "@app.route('/page3')\n",
        "def page3():\n",
        "    return render_template(\"page3.html\")\n",
        "\n",
        "app.run()"
      ],
      "metadata": {
        "id": "WFUd0_oCJYdi",
        "colab": {
          "base_uri": "https://localhost:8080/"
        },
        "outputId": "43daf8db-400e-47f3-b4c5-54aa359a0625"
      },
      "execution_count": null,
      "outputs": [
        {
          "output_type": "stream",
          "name": "stdout",
          "text": [
            " * Serving Flask app '__main__'\n",
            " * Debug mode: off\n"
          ]
        },
        {
          "output_type": "stream",
          "name": "stderr",
          "text": [
            "INFO:werkzeug:\u001b[31m\u001b[1mWARNING: This is a development server. Do not use it in a production deployment. Use a production WSGI server instead.\u001b[0m\n",
            " * Running on http://127.0.0.1:5000\n",
            "INFO:werkzeug:\u001b[33mPress CTRL+C to quit\u001b[0m\n"
          ]
        },
        {
          "output_type": "stream",
          "name": "stdout",
          "text": [
            " * Running on http://dd60-35-184-230-33.ngrok-free.app\n",
            " * Traffic stats available on http://127.0.0.1:4040\n"
          ]
        },
        {
          "output_type": "stream",
          "name": "stderr",
          "text": [
            "INFO:werkzeug:127.0.0.1 - - [03/Nov/2023 00:51:58] \"GET / HTTP/1.1\" 200 -\n",
            "INFO:werkzeug:127.0.0.1 - - [03/Nov/2023 00:51:58] \"GET /static/styles/myfile.css HTTP/1.1\" 200 -\n",
            "INFO:werkzeug:127.0.0.1 - - [03/Nov/2023 00:51:58] \"GET /static/js/myjs.js HTTP/1.1\" 200 -\n",
            "INFO:werkzeug:127.0.0.1 - - [03/Nov/2023 00:51:58] \"\u001b[33mGET /favicon.ico HTTP/1.1\u001b[0m\" 404 -\n"
          ]
        }
      ]
    },
    {
      "cell_type": "markdown",
      "source": [
        "## Abschluss - Runtime löschen und abschließend clear all outputs"
      ],
      "metadata": {
        "id": "YGXtJQoh3zOM"
      }
    },
    {
      "cell_type": "code",
      "source": [
        "# Bei Neustart zuvor Runtime/disconnect and delete runtime ausführen\n",
        "from google.colab import runtime\n",
        "runtime.unassign() # delete runtime"
      ],
      "metadata": {
        "id": "-lRyw7vD3uf1"
      },
      "execution_count": null,
      "outputs": []
    }
  ]
}