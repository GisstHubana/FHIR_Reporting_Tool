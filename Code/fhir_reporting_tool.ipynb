{
  "nbformat": 4,
  "nbformat_minor": 0,
  "metadata": {
    "colab": {
      "provenance": [],
      "include_colab_link": true
    },
    "kernelspec": {
      "name": "python3",
      "display_name": "Python 3"
    },
    "language_info": {
      "name": "python"
    }
  },
  "cells": [
    {
      "cell_type": "markdown",
      "metadata": {
        "id": "view-in-github",
        "colab_type": "text"
      },
      "source": [
        "<a href=\"https://colab.research.google.com/github/GisstHubana/FHIR_Reporting_Tool/blob/GisstHubana-patch-html/Code/fhir_reporting_tool.ipynb\" target=\"_parent\"><img src=\"https://colab.research.google.com/assets/colab-badge.svg\" alt=\"Open In Colab\"/></a>"
      ]
    },
    {
      "cell_type": "markdown",
      "source": [
        "# Vorbereitung\n",
        "## CleanUp - Eventuell gespeicherte Variablen löschen vor Ausführung des Colab books für eine bessere Reproduzierbarkeit"
      ],
      "metadata": {
        "id": "HQXhEho4mh6z"
      }
    },
    {
      "cell_type": "code",
      "execution_count": null,
      "metadata": {
        "id": "oVfQdEd9mZ6g"
      },
      "outputs": [],
      "source": [
        "%reset -f"
      ]
    },
    {
      "cell_type": "markdown",
      "source": [
        "## Installieren notwendiger Pakete"
      ],
      "metadata": {
        "id": "yEoY0ANRO1GQ"
      }
    },
    {
      "cell_type": "code",
      "source": [
        "!pip install pyngrok\n",
        "!pip install flask-ngrok\n",
        "!pip install pandas"
      ],
      "metadata": {
        "id": "2ZAE6N8o8wD_"
      },
      "execution_count": null,
      "outputs": []
    },
    {
      "cell_type": "markdown",
      "source": [
        "## gnrok mit Authorizierungstoken verknüpfen"
      ],
      "metadata": {
        "id": "w1VUV_8dO_UQ"
      }
    },
    {
      "cell_type": "code",
      "source": [
        "!ngrok authtoken 2Wlt2vGzytTpJ6zABKGKKwfiTof_7y4sewzGkNGy7zW6GB5oz"
      ],
      "metadata": {
        "id": "KGRrCtnKGha4"
      },
      "execution_count": null,
      "outputs": []
    },
    {
      "cell_type": "markdown",
      "source": [
        "Importieren der notwendigen Libraries"
      ],
      "metadata": {
        "id": "GsstcSbumzlw"
      }
    },
    {
      "cell_type": "code",
      "source": [
        "from flask import Flask, request, render_template\n",
        "from flask_ngrok import run_with_ngrok\n",
        "import secrets\n",
        "import sqlite3\n",
        "import json\n",
        "import pandas as pd\n",
        "# import requests\n",
        "# from bs4 import BeautifulSoup"
      ],
      "metadata": {
        "id": "mQFUXdj2m2zl"
      },
      "execution_count": null,
      "outputs": []
    },
    {
      "cell_type": "markdown",
      "source": [
        "Erstellung einer virtuellen Kopie des GitHub Repositorium FHIR_Reporting_Tool in Colab"
      ],
      "metadata": {
        "id": "10bUHuzcm_zr"
      }
    },
    {
      "cell_type": "code",
      "source": [
        "%cd /content # Wechsel in den Ordner /content - für den Fall, dass in einem Unterordner gearbeitet wurde\n",
        "\n",
        "!git clone https://github.com/GisstHubana/FHIR_Reporting_Tool.git #virtuelle Kopie des Repositoriums - Bei Neustart zuvor Runtime/disconnect and delete runtime ausführen\n",
        "!ls # Auflistung aller Ordnerinhalte"
      ],
      "metadata": {
        "id": "nTXaZsiLnJK7"
      },
      "execution_count": null,
      "outputs": []
    },
    {
      "cell_type": "code",
      "source": [
        "!git clone https://github.com/medizininformatik-initiative/kerndatensatz-testdaten.git #virtuelle Kopie des Medizininformatik-Initiative-Repositoriums - Bei Neustart zuvor Runtime/disconnect and delete runtime ausführen"
      ],
      "metadata": {
        "id": "2H9P436qf_FG"
      },
      "execution_count": null,
      "outputs": []
    },
    {
      "cell_type": "markdown",
      "source": [
        "### Database in Flask"
      ],
      "metadata": {
        "id": "h7w2-5X-DMqy"
      }
    },
    {
      "cell_type": "code",
      "source": [
        "db_folder = \"/content/FHIR_Reporting_Tool/\" # Benennung des Datenbank-Ordnerts\n",
        "conn = sqlite3.connect(db_folder+\"mydatabase.db\") # falls Datenbank noch nicht existiert wird sie mit diesem Aufruf virtuell erzeugt\n",
        "cursor = conn.cursor() # Cursor erstellen"
      ],
      "metadata": {
        "id": "fRU8bH4yDTIZ"
      },
      "execution_count": null,
      "outputs": []
    },
    {
      "cell_type": "markdown",
      "source": [
        "## Einlesen als ndjson-Datei"
      ],
      "metadata": {
        "id": "Rdg0T0dSD5jg"
      }
    },
    {
      "cell_type": "code",
      "source": [
        "# Auslesen des Inhalts einer ndjason-Datei\n",
        "\n",
        "# Pfadangabe der NDJSON-Datei\n",
        "ndjson_file = \"/content/kerndatensatz-testdaten/Test_Data/Vorhofflimmern/VHF-Testdaten_01-VHF00001-VHF01000.ndjson\""
      ],
      "metadata": {
        "id": "Qr7aejqNoB5O"
      },
      "execution_count": null,
      "outputs": []
    },
    {
      "cell_type": "code",
      "source": [
        "# Ein leeres Set zum Sammeln eindeutiger Schlüssel aus allen JSON-Objekten\n",
        "alle_schluessel = set()\n",
        "\n",
        "# Öffnen der NDJSON-Datei im Lesemodus\n",
        "with open(ndjson_file, \"r\") as file:\n",
        "    # Durchlaufen Sie die Zeilen der Datei\n",
        "    for line in file:\n",
        "        # Jede Zeile enthält ein JSON-Objekt, deshalb laden wir es\n",
        "        data = json.loads(line)\n",
        "\n",
        "        # Sammeln aller Schlüssel (Variablen) aus dem aktuellen JSON-Objekt\n",
        "        aktuelle_schluessel = set(data.keys())\n",
        "\n",
        "        # Einfügen gefundener Schlüssel Set alle_schluessel\n",
        "        alle_schluessel.update(aktuelle_schluessel)\n",
        "\n",
        "# Ausgabe aller eindeutiger Schlüssel aus allen JSON-Objekten der NDJSON-Datei\n",
        "print(\"Alle gefundenen Schlüssel:\")\n",
        "for schluessel in alle_schluessel:\n",
        "    print(schluessel)"
      ],
      "metadata": {
        "id": "Zuw9nO5GlMNN"
      },
      "execution_count": null,
      "outputs": []
    },
    {
      "cell_type": "code",
      "source": [
        "# Dateiname der NDJSON-Datei\n",
        "ndjson_file = \"/content/kerndatensatz-testdaten/Test_Data/Vorhofflimmern/VHF-Testdaten_01-VHF00001-VHF01000.ndjson\"\n",
        "\n",
        "# Anzahl der Zeilen, die Sie ausgeben möchten\n",
        "anzahl_zeilen = 5  # Ändern Sie dies auf die gewünschte Anzahl\n",
        "\n",
        "# Öffnen der NDJSON-Datei im Lesemodus\n",
        "with open(ndjson_file, \"r\") as file:\n",
        "    # Durchlaufen Sie die ersten N Zeilen der Datei\n",
        "    for i, line in enumerate(file):\n",
        "        if i >= anzahl_zeilen:\n",
        "            break\n",
        "\n",
        "\n",
        "        # Jede Zeile enthält ein JSON-Objekt, deshalb laden wir es\n",
        "        data = json.loads(line)\n",
        "\n",
        "        # Hier können Sie auf die Daten im JSON-Objekt zugreifen\n",
        "        # Zum Beispiel, wenn jedes JSON-Objekt eine \"name\" Eigenschaft hat\n",
        "        entry = data.get(\"entry\")\n",
        "\n",
        "        # Verarbeiten Sie die Daten nach Bedarf\n",
        "        print(\"entry:\", entry)"
      ],
      "metadata": {
        "id": "z3yv0Cdfi2DE"
      },
      "execution_count": null,
      "outputs": []
    },
    {
      "cell_type": "markdown",
      "source": [
        "## Einlesen als Excel-Datei"
      ],
      "metadata": {
        "id": "vfV9NLntECUK"
      }
    },
    {
      "cell_type": "code",
      "source": [
        "# Pfade zur Excel-Datei und zum Tabellenblatt\n",
        "excel_datei_pfad = '/content/kerndatensatz-testdaten/Test_Data/Vorhofflimmern/VHF-Testdaten_01.xlsx'  # Passe den Pfad zur Excel-Datei an\n",
        "\n",
        "# Excel-Datei einlesen\n",
        "vhf_test_df = pd.read_excel(excel_datei_pfad) # Passe den Namen des Tabellenblatts an\n",
        "\n",
        "# Header ausgeben\n",
        "header = vhf_test_df.columns.tolist()\n",
        "print(\"Header der Excel-Datei:\")\n",
        "print(header)\n",
        "print(vhf_test_df.head(5))"
      ],
      "metadata": {
        "id": "lUVWfD4bEF-R"
      },
      "execution_count": null,
      "outputs": []
    },
    {
      "cell_type": "code",
      "source": [
        "#query\n",
        "create_table_query = \"\"\"\n",
        "CREATE TABLE IF NOT EXISTS users (\n",
        "  id INTEGER PRIMARY KEY AUTOINCREMENT,\n",
        "  username TEXT NOT NULL,\n",
        "  password TEXT NOT NULL\n",
        "\n",
        ")\n",
        "\n",
        "\"\"\"\n",
        "cursor.execute(create_table_query)\n",
        "\n",
        "insert_query = \"\"\"\n",
        "INSERT INTO users(username, password)\n",
        "SELECT ?, ?\n",
        "WHERE NOT EXISTS (\n",
        "  SELECT 1 FROM users WHERE username = ?\n",
        "\n",
        ")\n",
        "\"\"\"\n",
        "user_data = (\"USER3\", \"1234\", \"USER3\")\n",
        "cursor.execute(insert_query, user_data)\n",
        "conn.commit()\n",
        "\n",
        "select_query = \"SELECT * FROM users\"\n",
        "cursor.execute(select_query)\n",
        "rows = cursor.fetchall()\n",
        "for row in rows:\n",
        "  print(row)"
      ],
      "metadata": {
        "id": "o03Mwnh3rKO4"
      },
      "execution_count": null,
      "outputs": []
    },
    {
      "cell_type": "code",
      "source": [
        "template_folder = \"/content/FHIR_Reporting_Tool/templates\"\n",
        "static_folder = \"/content/FHIR_Reporting_Tool/static\"\n",
        "db_folder = \"/content/FHIR_Reporting_Tool/\"\n",
        "app = Flask(__name__, template_folder=template_folder, static_folder=static_folder) # Flask-App, Benennung template-Ordner\n",
        "app.secret_key = secrets.token_hex(32)\n",
        "run_with_ngrok(app) # run_with_ngrok Funktion hinzufügen, um App mit ngrok auszuführen\n",
        "\n",
        "conn = sqlite3.connect(db_folder+\"mydatabase.db\") # falls Datenbank noch nicht existiert wird sie mit diesem Aufruf erzeugt\n",
        "cursor = conn.cursor()\n",
        "\n",
        "@app.route('/query', methods=['POST'])\n",
        "def query():\n",
        "    query = request.form.get('query')\n",
        "    cursor.execute(query)\n",
        "    result = cursor.fetchall()\n",
        "    return render_template('result_fhir.html', result=result)\n",
        "\n",
        "@app.route('/') # Erstellung einer Routendefinition\n",
        "def index():\n",
        "    return render_template(\"index_fhir.html\")\n",
        "\n",
        "if __name__ == '__main__': # Starten der Flask-Anwendung\n",
        "  app.run()"
      ],
      "metadata": {
        "id": "azDj8frhoTOl"
      },
      "execution_count": null,
      "outputs": []
    },
    {
      "cell_type": "code",
      "source": [
        "template_folder = \"/content/FHIR_Reporting_Tool/templates\"\n",
        "static_folder = \"/content/FHIR_Reporting_Tool/static\"\n",
        "db_folder = \"/content/FHIR_Reporting_Tool/\"\n",
        "app = Flask(__name__, template_folder=template_folder, static_folder=static_folder) # Flask-App, Benennung template-Ordner\n",
        "# app.debug = True # Debug-Modus aktivieren - webseite lädt nicht wenn eingeschaltet\n",
        "app.secret_key = secrets.token_hex(32)\n",
        "run_with_ngrok(app) # run_with_ngrok Funktion hinzufügen, um App mit ngrok auszuführen\n",
        "\n",
        "@app.route('/', methods=[\"GET\", \"POST\"])\n",
        "def login():\n",
        "\n",
        "  if request.method == \"POST\":\n",
        "    username = request.form.get(\"username\")\n",
        "    password = request.form.get(\"password\")\n",
        "\n",
        "    conn = sqlite3.connect(db_folder+\"mydatabase.db\") # falls Datenbank noch nicht existiert wird sie mit diesem Aufruf erzeugt\n",
        "    cursor = conn.cursor()\n",
        "    # query\n",
        "    query = \"\"\"\n",
        "    SELECT * FROM users WHERE username = ? AND password = ?\n",
        "    \"\"\"\n",
        "    cursor.execute(query, (username, password))\n",
        "    result = cursor.fetchone()\n",
        "\n",
        "    if result:\n",
        "     return render_template(\"page2.html\", name=username)\n",
        "    else:\n",
        "      message = \"Wrong username or password. Please try again!\"\n",
        "      return render_template(\"login.html\", message=message)\n",
        "\n",
        "  else:\n",
        "    return render_template(\"login.html\")\n",
        "\n",
        "@app.route('/home') # Erstellung einer Routendefinition home\n",
        "def index():\n",
        "    return render_template(\"index.html\")\n",
        "\n",
        "@app.route('/page2')\n",
        "def page2():\n",
        "    username = input(\"Enter your name:\")\n",
        "    return render_template(\"page2.html\", name=username)\n",
        "\n",
        "@app.route('/page3')\n",
        "def page3():\n",
        "    return render_template(\"page3.html\")\n",
        "\n",
        "app.run()"
      ],
      "metadata": {
        "id": "h91VY9IQogjU"
      },
      "execution_count": null,
      "outputs": []
    },
    {
      "cell_type": "markdown",
      "source": [
        "## Abschluss - Runtime löschen und abschließend clear all outputs"
      ],
      "metadata": {
        "id": "YGXtJQoh3zOM"
      }
    },
    {
      "cell_type": "code",
      "source": [
        "# # Bei Neustart zuvor Runtime/disconnect and delete runtime ausführen\n",
        "# from google.colab import runtime\n",
        "# runtime.unassign() # delete runtime"
      ],
      "metadata": {
        "id": "-lRyw7vD3uf1"
      },
      "execution_count": null,
      "outputs": []
    }
  ]
}