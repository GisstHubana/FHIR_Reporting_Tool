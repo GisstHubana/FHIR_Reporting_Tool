{
  "nbformat": 4,
  "nbformat_minor": 0,
  "metadata": {
    "colab": {
      "provenance": [],
      "toc_visible": true,
      "include_colab_link": true
    },
    "kernelspec": {
      "name": "python3",
      "display_name": "Python 3"
    },
    "language_info": {
      "name": "python"
    }
  },
  "cells": [
    {
      "cell_type": "markdown",
      "metadata": {
        "id": "view-in-github",
        "colab_type": "text"
      },
      "source": [
        "<a href=\"https://colab.research.google.com/github/GisstHubana/FHIR_Reporting_Tool/blob/GisstHubana-patch-html/Code/fhir_reporting_tool.ipynb\" target=\"_parent\"><img src=\"https://colab.research.google.com/assets/colab-badge.svg\" alt=\"Open In Colab\"/></a>"
      ]
    },
    {
      "cell_type": "markdown",
      "source": [
        "# Vorbereitung"
      ],
      "metadata": {
        "id": "HQXhEho4mh6z"
      }
    },
    {
      "cell_type": "markdown",
      "source": [
        "## CleanUp - Eventuell gespeicherte Variablen löschen vor Ausführung des Colab books für eine bessere Reproduzierbarkeit"
      ],
      "metadata": {
        "id": "O3iXezMdw_f5"
      }
    },
    {
      "cell_type": "code",
      "execution_count": null,
      "metadata": {
        "id": "oVfQdEd9mZ6g"
      },
      "outputs": [],
      "source": [
        "%reset -f"
      ]
    },
    {
      "cell_type": "markdown",
      "source": [
        "## Installieren notwendiger Pakete"
      ],
      "metadata": {
        "id": "yEoY0ANRO1GQ"
      }
    },
    {
      "cell_type": "code",
      "source": [
        "!pip install pyngrok\n",
        "!pip install flask-ngrok\n",
        "!pip install pandas"
      ],
      "metadata": {
        "id": "2ZAE6N8o8wD_"
      },
      "execution_count": null,
      "outputs": []
    },
    {
      "cell_type": "markdown",
      "source": [
        "## gnrok mit Authorizierungstoken verknüpfen"
      ],
      "metadata": {
        "id": "w1VUV_8dO_UQ"
      }
    },
    {
      "cell_type": "code",
      "source": [
        "!ngrok authtoken 2Wlt2vGzytTpJ6zABKGKKwfiTof_7y4sewzGkNGy7zW6GB5oz #notwendig für späteren Aufruf der Webseite"
      ],
      "metadata": {
        "id": "KGRrCtnKGha4"
      },
      "execution_count": null,
      "outputs": []
    },
    {
      "cell_type": "markdown",
      "source": [
        "## Importieren der notwendigen Libraries"
      ],
      "metadata": {
        "id": "GsstcSbumzlw"
      }
    },
    {
      "cell_type": "code",
      "source": [
        "from flask import Flask, request, render_template, jsonify\n",
        "from flask_ngrok import run_with_ngrok\n",
        "import secrets\n",
        "import sqlite3\n",
        "import json\n",
        "import pandas as pd\n",
        "from pandas import json_normalize\n",
        "import glob\n",
        "import requests"
      ],
      "metadata": {
        "id": "mQFUXdj2m2zl"
      },
      "execution_count": null,
      "outputs": []
    },
    {
      "cell_type": "markdown",
      "source": [
        "## Erstellung einer virtuellen Kopie des GitHub Repositorium FHIR_Reporting_Tool in Colab"
      ],
      "metadata": {
        "id": "10bUHuzcm_zr"
      }
    },
    {
      "cell_type": "code",
      "source": [
        "%cd /content # Wechsel in den Ordner /content - für den Fall, dass in einem Unterordner gearbeitet wurde\n",
        "\n",
        "!git clone https://github.com/GisstHubana/FHIR_Reporting_Tool.git #virtuelle Kopie des Repositoriums - Bei Neustart zuvor Runtime/disconnect and delete runtime ausführen\n",
        "!ls # Auflistung aller Ordnerinhalte"
      ],
      "metadata": {
        "id": "nTXaZsiLnJK7"
      },
      "execution_count": null,
      "outputs": []
    },
    {
      "cell_type": "code",
      "source": [
        "!git clone https://github.com/medizininformatik-initiative/kerndatensatz-testdaten.git #virtuelle Kopie des Medizininformatik-Initiative-Repositoriums - Bei Neustart zuvor Runtime/disconnect and delete runtime ausführen"
      ],
      "metadata": {
        "id": "2H9P436qf_FG"
      },
      "execution_count": null,
      "outputs": []
    },
    {
      "cell_type": "markdown",
      "source": [
        "## Erstellung einer Datenbank für die spätere Anwendung mit Flask"
      ],
      "metadata": {
        "id": "h7w2-5X-DMqy"
      }
    },
    {
      "cell_type": "code",
      "source": [
        "db_folder = \"/content/FHIR_Reporting_Tool/\" # Benennung des Datenbank-Ordnerts\n",
        "conn = sqlite3.connect(db_folder+\"mydatabase.db\") # falls Datenbank noch nicht existiert wird sie mit diesem Aufruf virtuell erzeugt\n",
        "cursor = conn.cursor() # Cursor erstellen"
      ],
      "metadata": {
        "id": "fRU8bH4yDTIZ"
      },
      "execution_count": null,
      "outputs": []
    },
    {
      "cell_type": "markdown",
      "source": [
        "### Query zum Erstellen des Logins von Usern"
      ],
      "metadata": {
        "id": "rm5MDyG9fzvI"
      }
    },
    {
      "cell_type": "code",
      "source": [
        "create_table_query = \"\"\"\n",
        "CREATE TABLE IF NOT EXISTS users (\n",
        "  id INTEGER PRIMARY KEY AUTOINCREMENT,\n",
        "  username TEXT NOT NULL,\n",
        "  password TEXT NOT NULL\n",
        "\n",
        ")\n",
        "\n",
        "\"\"\"\n",
        "cursor.execute(create_table_query)\n",
        "\n",
        "insert_query = \"\"\"\n",
        "INSERT INTO users(username, password)\n",
        "SELECT ?, ?\n",
        "WHERE NOT EXISTS (\n",
        "  SELECT 1 FROM users WHERE username = ?\n",
        "\n",
        ")\n",
        "\"\"\"\n",
        "user_data = [(\"USER3\", \"1234\", \"USER3\"), (\"Tatjana\", \"1234\", \"Tatjana\"), (\"Timo\", \"1234\", \"Timo\")]\n",
        "for data in user_data:\n",
        "    cursor.execute(insert_query, data)\n",
        "conn.commit()\n",
        "\n",
        "select_query = \"SELECT * FROM users\"\n",
        "cursor.execute(select_query)\n",
        "rows = cursor.fetchall()\n",
        "for row in rows:\n",
        "  print(row)"
      ],
      "metadata": {
        "id": "o03Mwnh3rKO4"
      },
      "execution_count": null,
      "outputs": []
    },
    {
      "cell_type": "markdown",
      "source": [
        "# Inspektion der zur Verfügung gestellten Daten"
      ],
      "metadata": {
        "id": "-J9UK995ffkg"
      }
    },
    {
      "cell_type": "markdown",
      "source": [
        "## Abfrage des Testkerndatensatz über den Blaze-Server"
      ],
      "metadata": {
        "id": "0ToBiNWaVkIQ"
      }
    },
    {
      "cell_type": "code",
      "source": [
        "# Verbindung mit url\n",
        "url = \"https://mii-agiop-3p.life.uni-leipzig.de/blaze\"\n",
        "# Datenabfrage\n",
        "r = requests.get(url)\n",
        "# Sicherstellung, dass die Anfrage erfolgreich war vor dem Fortfahren\n",
        "if r.status_code == 200:\n",
        "    blaze_data = r.json()\n",
        "    # Konvertieren JSON-Daten in einen DataFrame\n",
        "    blaze = json_normalize(blaze_data)\n",
        "    blaze_df = pd.DataFrame(blaze)\n",
        "\n",
        "    # Ausgabe der Tabelle\n",
        "    print(blaze_df)\n",
        "else:\n",
        "    print(\"Fehler bei der Anfrage:\", r.status_code)"
      ],
      "metadata": {
        "id": "kN1OQNrYVnup"
      },
      "execution_count": null,
      "outputs": []
    },
    {
      "cell_type": "code",
      "source": [
        "len(blaze_data[\"entry\"])"
      ],
      "metadata": {
        "id": "BvW-9BI3cFhg"
      },
      "execution_count": null,
      "outputs": []
    },
    {
      "cell_type": "code",
      "source": [
        "# Extrahieren der 'entry'-Werte\n",
        "blaze_entries = blaze_data['entry']\n",
        "\n",
        "# Konvertieren der 'entry'-Liste in einen DataFrame\n",
        "blaze_entries_df = pd.DataFrame(blaze_entries)\n",
        "\n",
        "# Ausgabe der Tabelle\n",
        "print(blaze_entries_df)"
      ],
      "metadata": {
        "id": "doPaOtWCsAQA"
      },
      "execution_count": null,
      "outputs": []
    },
    {
      "cell_type": "code",
      "source": [
        "# Anzeigen der Keys\n",
        "blaze_entries_df.keys()"
      ],
      "metadata": {
        "id": "DiuW_cWBZQcz"
      },
      "execution_count": null,
      "outputs": []
    },
    {
      "cell_type": "code",
      "source": [
        "blaze_entries_df.head(5)"
      ],
      "metadata": {
        "id": "e7ofkTPmwLsZ"
      },
      "execution_count": null,
      "outputs": []
    },
    {
      "cell_type": "code",
      "source": [
        "blaze_entries_df[\"resource\"].head(5)"
      ],
      "metadata": {
        "id": "ukFhera2zVKN"
      },
      "execution_count": null,
      "outputs": []
    },
    {
      "cell_type": "code",
      "source": [
        "# Zugriff auf den Wert des Schlüssels 'type'\n",
        "type_value = blaze_data['type']\n",
        "\n",
        "# Ausgabe der Variablen\n",
        "print(type_value)"
      ],
      "metadata": {
        "id": "jE_z3CRQiqc9"
      },
      "execution_count": null,
      "outputs": []
    },
    {
      "cell_type": "code",
      "source": [
        "# Zugriff auf den Wert des Schlüssels 'type'\n",
        "entry_value = blaze_data['entry']\n",
        "\n",
        "# Ausgabe der Variablen\n",
        "print(entry_value)"
      ],
      "metadata": {
        "id": "8XDJIolRixTr"
      },
      "execution_count": null,
      "outputs": []
    },
    {
      "cell_type": "code",
      "source": [
        "test = \"https://mii-agiop-3p.life.uni-leipzig.de/blaze/Patient?_format=xml\"\n",
        "\n",
        "print(test)"
      ],
      "metadata": {
        "id": "4hURhVyMecw9"
      },
      "execution_count": null,
      "outputs": []
    },
    {
      "cell_type": "markdown",
      "source": [
        "## Einlesen des Testkerndatensatz als ndjson-Datei"
      ],
      "metadata": {
        "id": "Rdg0T0dSD5jg"
      }
    },
    {
      "cell_type": "code",
      "source": [
        "# Auslesen des Inhalts einer ndjason-Datei\n",
        "\n",
        "# Pfadangabe der NDJSON-Datei\n",
        "ndjson_file = \"/content/kerndatensatz-testdaten/Test_Data/Vorhofflimmern/VHF-Testdaten_01-VHF00001-VHF01000.ndjson\""
      ],
      "metadata": {
        "id": "Qr7aejqNoB5O"
      },
      "execution_count": null,
      "outputs": []
    },
    {
      "cell_type": "code",
      "source": [
        "# Anlage eines leeres Set zum Sammeln eindeutiger Schlüssel aus allen JSON-Objekten\n",
        "alle_schluessel = set()\n",
        "\n",
        "# Öffnen der NDJSON-Datei im Lesemodus\n",
        "with open(ndjson_file, \"r\") as file:\n",
        "    # Durchlaufen der Zeilen der Datei\n",
        "    for line in file:\n",
        "        # Laden jeder Zeile, die alle ein JSON-Objekt enthalten\n",
        "        data = json.loads(line)\n",
        "\n",
        "        # Sammeln aller Schlüssel (Variablen) aus dem aktuellen JSON-Objekt\n",
        "        aktuelle_schluessel = set(data.keys())\n",
        "\n",
        "        # Einfügen gefundener Schlüssel Set alle_schluessel\n",
        "        alle_schluessel.update(aktuelle_schluessel)\n",
        "\n",
        "# Ausgabe aller eindeutiger Schlüssel aus allen JSON-Objekten der NDJSON-Datei\n",
        "print(\"Alle gefundenen Schlüssel:\")\n",
        "for schluessel in alle_schluessel:\n",
        "    print(schluessel)"
      ],
      "metadata": {
        "id": "Zuw9nO5GlMNN"
      },
      "execution_count": null,
      "outputs": []
    },
    {
      "cell_type": "code",
      "source": [
        "# Dateiname der NDJSON-Datei\n",
        "ndjson_file = \"/content/kerndatensatz-testdaten/Test_Data/Vorhofflimmern/VHF-Testdaten_01-VHF00001-VHF01000.ndjson\"\n",
        "\n",
        "# Anzahl der auszugebenden Zeilen\n",
        "anzahl_zeilen = 5  # ggf. Anpassung der Anzahl der Ausgaben\n",
        "\n",
        "# Öffnen der NDJSON-Datei im Lesemodus\n",
        "with open(ndjson_file, \"r\") as file:\n",
        "    # Durchlaufen der ersten N Zeilen der Datei\n",
        "    for i, line in enumerate(file):\n",
        "        if i >= anzahl_zeilen:\n",
        "            break\n",
        "\n",
        "\n",
        "        # Jede Zeile enthält ein JSON-Objekt -> laden dieser Zeilen\n",
        "        data = json.loads(line)\n",
        "\n",
        "        # Zugriff auf ein JSON-Objekt mit \"entry\" Eigenschaft\n",
        "        entry = data.get(\"entry\")\n",
        "\n",
        "        # Ausgabe des abgefragen JSON-Objekts\n",
        "        print(\"entry:\", entry)"
      ],
      "metadata": {
        "id": "z3yv0Cdfi2DE"
      },
      "execution_count": null,
      "outputs": []
    },
    {
      "cell_type": "code",
      "source": [
        "# ndjson-Datei als dataframe einlesen:\n",
        "data_list_ndjson = [] # Liste, um die JSON-Objekte aus der NDJSON-Datei zu speichern\n",
        "\n",
        "# Die NDJSON-Datei Zeile für Zeile einlesen und JSON-Objekte parsen\n",
        "with open(ndjson_file, 'r') as file:\n",
        "    for line in file:\n",
        "        data = json.loads(line)\n",
        "        data_list_ndjson.append(data)\n",
        "\n",
        "ndjson_df = pd.DataFrame(data_list_ndjson)\n",
        "\n",
        "# Ausgabe\n",
        "ndjson_df.iloc[0:5]"
      ],
      "metadata": {
        "id": "r3LaO5AmeJN9"
      },
      "execution_count": null,
      "outputs": []
    },
    {
      "cell_type": "markdown",
      "source": [
        "## 3.\tEinlesen des Testkerndatensatzes als Excel-Datei"
      ],
      "metadata": {
        "id": "vfV9NLntECUK"
      }
    },
    {
      "cell_type": "code",
      "source": [
        "# Pfade zur Excel-Datei\n",
        "excel_datei_pfad = '/content/kerndatensatz-testdaten/Test_Data/Vorhofflimmern/VHF-Testdaten_01.xlsx'\n",
        "\n",
        "# Excel-Datei als Dataframe einlesen\n",
        "vhf_test_df = pd.read_excel(excel_datei_pfad)\n",
        "\n",
        "# Header ausgeben\n",
        "header = vhf_test_df.columns.tolist()\n",
        "print(\"Header der Excel-Datei:\")\n",
        "print(header)\n",
        "print(vhf_test_df.head(5))"
      ],
      "metadata": {
        "id": "lUVWfD4bEF-R"
      },
      "execution_count": null,
      "outputs": []
    },
    {
      "cell_type": "markdown",
      "source": [
        "### Abfragebeispiele auf die Dataframes ndjson_df und vhf_test_df"
      ],
      "metadata": {
        "id": "Sg-wxkWEhgCn"
      }
    },
    {
      "cell_type": "code",
      "source": [
        "ergebnis_df = pd.DataFrame(ndjson_df[\"type\"].tolist())\n",
        "print(ergebnis_df.head(5))"
      ],
      "metadata": {
        "id": "N6PXwISKg3bI"
      },
      "execution_count": null,
      "outputs": []
    },
    {
      "cell_type": "code",
      "source": [
        "ergebnis_df = pd.DataFrame(ndjson_df[\"entry\"].tolist())\n",
        "print(ergebnis_df.head(5))"
      ],
      "metadata": {
        "id": "0bBkKt9NaRmO"
      },
      "execution_count": null,
      "outputs": []
    },
    {
      "cell_type": "code",
      "source": [
        "ergebnis_df = pd.DataFrame(vhf_test_df[\"Patient-ID\"].tolist())\n",
        "print(ergebnis_df.head(5))"
      ],
      "metadata": {
        "id": "dS_FYI_VhJPR"
      },
      "execution_count": null,
      "outputs": []
    },
    {
      "cell_type": "code",
      "source": [
        "ergebnis_df = pd.DataFrame(vhf_test_df[\"Geburtsdatum\"].tolist())\n",
        "print(ergebnis_df.head(5))"
      ],
      "metadata": {
        "id": "cHV85Hh2hJPU"
      },
      "execution_count": null,
      "outputs": []
    },
    {
      "cell_type": "code",
      "source": [
        "# Die Spaltenüberschriften (Keys) des Dataframes vhf_test_df ausgeben\n",
        "column_names_vhf = vhf_test_df.columns\n",
        "print(column_names_vhf)"
      ],
      "metadata": {
        "id": "O17Mp4pZj57Z"
      },
      "execution_count": null,
      "outputs": []
    },
    {
      "cell_type": "code",
      "source": [
        "# print((vhf_test_df.to_html()).head(5)) # String Objekt daher print head nicht möglich und sonst zu groß\n",
        "print(type(vhf_test_df.to_html()))"
      ],
      "metadata": {
        "id": "sc6xkN_0b9Qz"
      },
      "execution_count": null,
      "outputs": []
    },
    {
      "cell_type": "code",
      "source": [
        "print(vhf_test_df.head(5))"
      ],
      "metadata": {
        "id": "KkN48SamOOKS"
      },
      "execution_count": null,
      "outputs": []
    },
    {
      "cell_type": "code",
      "source": [
        "# Text in Zeilenumbrüche teilen\n",
        "zeilen = (vhf_test_df.to_html()).split('\\n')\n",
        "# Ausgabe der ersten 120 Zeilen\n",
        "for zeile in zeilen[:120]:\n",
        "    print(zeile)"
      ],
      "metadata": {
        "id": "M19ONWUaZHta"
      },
      "execution_count": null,
      "outputs": []
    },
    {
      "cell_type": "markdown",
      "source": [
        "# Erstellung der Flask-App zur Erstellung des Webinterfaces mit Datenabfrage und -übertragung in Python"
      ],
      "metadata": {
        "id": "5XwgqfBagD6L"
      }
    },
    {
      "cell_type": "code",
      "source": [
        "template_folder = \"/content/FHIR_Reporting_Tool/templates\"\n",
        "static_folder = \"/content/FHIR_Reporting_Tool/static\"\n",
        "db_folder = \"/content/FHIR_Reporting_Tool/\"\n",
        "\n",
        "app = Flask(__name__, template_folder=template_folder, static_folder=static_folder) # Flask-App, Benennung template- und static-Ordner\n",
        "app.secret_key = secrets.token_hex(32)\n",
        "run_with_ngrok(app) # run_with_ngrok Funktion hinzufügen, um App mit ngrok auszuführen\n",
        "\n",
        "@app.route('/', methods=[\"GET\", \"POST\"])\n",
        "def login():\n",
        "\n",
        "  if request.method == \"POST\":\n",
        "    username = request.form.get(\"username\")\n",
        "    password = request.form.get(\"password\")\n",
        "\n",
        "    conn = sqlite3.connect(db_folder+\"mydatabase.db\")\n",
        "    cursor = conn.cursor()\n",
        "    # query\n",
        "    query = \"\"\"\n",
        "    SELECT * FROM users WHERE username = ? AND password = ?\n",
        "    \"\"\"\n",
        "    cursor.execute(query, (username, password))\n",
        "    result = cursor.fetchone()\n",
        "\n",
        "    if result:\n",
        "     return render_template(\"eingeloggt.html\", name=username)\n",
        "    else:\n",
        "      message = \"Wrong username or password. Please try again!\"\n",
        "      return render_template(\"login.html\", message=message)\n",
        "\n",
        "  else:\n",
        "    return render_template(\"login.html\")\n",
        "\n",
        "@app.route('/home') # Erstellung einer Routendefinition home\n",
        "def index():\n",
        "    return render_template(\"index.html\")\n",
        "\n",
        "@app.route('/eingeloggt')\n",
        "def eingeloggt():\n",
        "    return render_template(\"eingeloggt.html\", name=username)\n",
        "\n",
        "@app.route('/xls_abfrage') # Erstellung einer Routendefinition xls_abfrage\n",
        "def xls_abfrage_route():\n",
        "    return render_template(\"xls_abfrage.html\")\n",
        "\n",
        "@app.route('/xls_abfrage2', methods=['POST']) # Erstellung einer Routendefinition Abfrage\n",
        "def xls_abfrage():\n",
        "    xls_abfrage = request.form['xls_abfrage2']\n",
        "\n",
        "    # Abfrage auf dem aus xls genererierten DataFrame\n",
        "    ergebnis_xls_df = pd.DataFrame(vhf_test_df[xls_abfrage].tolist()) # Abfrage Excel_VHF_Test_Dataframe\n",
        "\n",
        "    # Konvertieren des Ergebnis-DataFrames in HTML\n",
        "    ergebnis_xls_html = ergebnis_xls_df.to_html()\n",
        "    return render_template('xls_ergebnis.html', ergebnis_xls_html=ergebnis_xls_html)\n",
        "\n",
        "@app.route('/blaze_abfrage') # Erstellung einer Routendefinition\n",
        "def blaze_abfrage_route():\n",
        "    return render_template(\"blaze_abfrage.html\")\n",
        "\n",
        "@app.route('/blaze_abfrage2', methods=['POST']) # Erstellung einer Routendefinition Abfrage\n",
        "def blaze_abfrage():\n",
        "    blaze_abfrage = request.form['blaze_abfrage2']\n",
        "\n",
        "    # Abfrage auf dem vom blaze-server genererierten DataFrame\n",
        "    ergebnis_blaze_df = pd.DataFrame(blaze_entries_df[blaze_abfrage].tolist()) # Abfrage Blaze_Dataframe\n",
        "\n",
        "    # Konvertieren des Ergebnis-DataFrames in HTML\n",
        "    ergebnis_blaze_html = ergebnis_blaze_df.to_html()\n",
        "    return render_template('blaze_ergebnis.html', ergebnis_blaze_html=ergebnis_blaze_html)\n",
        "\n",
        "@app.route('/json_abfrage') # Erstellung einer Routendefinition\n",
        "def json_abfrage_route():\n",
        "    return render_template(\"json_abfrage.html\")\n",
        "\n",
        "@app.route('/json_abfrage2', methods=['POST']) # Erstellung einer Routendefinition Abfrage\n",
        "def json_abfrage():\n",
        "    json_abfrage = request.form['json_abfrage2']\n",
        "\n",
        "    # Abfrage auf dem aus ndjson genererierten DataFrame\n",
        "    ergebnis_json_df = pd.DataFrame(ndjson_df[json_abfrage].tolist()) # Abfrage Excel_VHF_Test_Dataframe\n",
        "\n",
        "    # Konvertieren des Ergebnis-DataFrames in HTML\n",
        "    ergebnis_json_html = ergebnis_json_df.to_html()\n",
        "    return render_template('json_ergebnis.html', ergebnis_json_html=ergebnis_json_html)\n",
        "\n",
        "# Erstellen der ersten 5 Einträge des xls-Files\n",
        "@app.route('/xls_table')\n",
        "def show_table_xls():\n",
        "    # Ausgabe der ersten 5 Zeilen\n",
        "    vhf_test_head = vhf_test_df.head(5)\n",
        "    # HTML-String definieren\n",
        "    xls_table_html = vhf_test_head.to_html(classes='table table-bordered table-hover', index=False)\n",
        "\n",
        "    # Übergebe des HTMLs an das Render-Template\n",
        "    return render_template('xls_table.html', xls_table=xls_table_html)\n",
        "\n",
        "# Erstellen der Abfrage der ersten 50 Einträge vom Blaze-Server\n",
        "@app.route('/blaze_get_data')\n",
        "def get_data():\n",
        "    return jsonify(blaze_entries_df[\"resource\"].to_dict())\n",
        "\n",
        "@app.route('/json_table')\n",
        "def json_table():\n",
        "    # Extrahieren der ersten fünf Einträge des ndjson-Files\n",
        "    first_five_entries = ndjson_df.iloc[0:5]\n",
        "    # Konvertieren der ersten fünf Einträge in HTML\n",
        "    ndjson_table = first_five_entries.to_html()\n",
        "    return  render_template('json_table.html', ndjson_table=ndjson_table)\n",
        "\n",
        "# Definieren der Variable ergebnis_data im globalen Geltungsbereich\n",
        "ergebnis_data = []\n",
        "\n",
        "@app.route('/xls_datenabfrage')\n",
        "def geschlecht_und_alsersspanne_auswaehlen():\n",
        "    return render_template('xls_datenabfrage.html')\n",
        "\n",
        "@app.route('/xls_verarbeiten', methods=['POST'])\n",
        "def daten_verarbeiten():\n",
        "    geschlecht = request.form['geschlecht']\n",
        "    alter_von = int(request.form['alter_von'])\n",
        "    alter_bis = int(request.form['alter_bis'])\n",
        "    kkdat_einwilligung = request.form['KKDAT Einwilligung']\n",
        "\n",
        "    # Erstellung der interaktiven Excel-Abfrage mit abfragbaren Werten\n",
        "    gefilterter_df = vhf_test_df[\n",
        "        (vhf_test_df['Geschlecht'] == geschlecht) &\n",
        "        (vhf_test_df['Alter'] >= alter_von) &\n",
        "        (vhf_test_df['Alter'] <= alter_bis) &\n",
        "        (vhf_test_df['KKDAT Einwilligung'] == kkdat_einwilligung)\n",
        "    ]\n",
        "\n",
        "    interaktiv_ergebnis_xls_html = gefilterter_df.to_html(classes='table table-bordered table-hover')\n",
        "\n",
        "    # Rückgabe der generierten Daten\n",
        "    return render_template('xls_datenabfrage_ergebnis.html', interaktiv_ergebnis_xls_html=interaktiv_ergebnis_xls_html)\n",
        "\n",
        "app.run()"
      ],
      "metadata": {
        "id": "h91VY9IQogjU"
      },
      "execution_count": null,
      "outputs": []
    },
    {
      "cell_type": "markdown",
      "source": [
        "# Abschluss - Runtime löschen und abschließend clear all outputs"
      ],
      "metadata": {
        "id": "YGXtJQoh3zOM"
      }
    },
    {
      "cell_type": "code",
      "source": [
        "# # Bei Neustart zuvor Runtime/disconnect and delete runtime ausführen\n",
        "# from google.colab import runtime\n",
        "# runtime.unassign() # delete runtime"
      ],
      "metadata": {
        "id": "-lRyw7vD3uf1"
      },
      "execution_count": null,
      "outputs": []
    },
    {
      "cell_type": "markdown",
      "metadata": {
        "id": "VWWX5CrQFoqz"
      },
      "source": [
        "## Version Check"
      ]
    },
    {
      "cell_type": "code",
      "metadata": {
        "id": "q0ShwlfT2H80"
      },
      "source": [
        "#python Version\n",
        "import sys\n",
        "sys.version_info"
      ],
      "execution_count": null,
      "outputs": []
    },
    {
      "cell_type": "code",
      "metadata": {
        "id": "D4kWWXUto83S"
      },
      "source": [
        "print(pd.__version__)\n",
        "print(requests.__version__)"
      ],
      "execution_count": null,
      "outputs": []
    },
    {
      "cell_type": "markdown",
      "source": [
        "Version Pandas 1.5.3\n",
        "\n",
        "Version Requests 2.31.0"
      ],
      "metadata": {
        "id": "jAjRn1Nko-Pe"
      }
    },
    {
      "cell_type": "code",
      "metadata": {
        "id": "3NwGVbSoA5lA"
      },
      "source": [
        "# # Überprüfen aller Variablen\n",
        "# %pip freeze"
      ],
      "execution_count": null,
      "outputs": []
    },
    {
      "cell_type": "markdown",
      "metadata": {
        "id": "9FxdmDqaAeAl"
      },
      "source": [
        "## Calculate the Checksum of the Data Set"
      ]
    },
    {
      "cell_type": "code",
      "metadata": {
        "id": "sIISw67e_9gI"
      },
      "source": [
        "from pandas.util import hash_pandas_object\n",
        "# ndjson_df_hashes = hash_pandas_object(ndjson_df)\n",
        "\n",
        "# Ergebnis-DFs nicht abfragbar, da variabler Inhalt\n",
        "# ergebnis_xls_df_hashes = hash_pandas_object(ergebnis_xls_df)\n",
        "# ergebnis_blaze_df_hashes = hash_pandas_object(ergebnis_blaze_df)\n",
        "# ergebnis_json_df_hashes = hash_pandas_object(ergebnis_json_df)\n",
        "\n",
        "vhf_test_df_hashes = hash_pandas_object(vhf_test_df)\n",
        "# blaze_entries_df_hashes = hash_pandas_object(blaze_entries_df)\n",
        "# ndjson_df_hashes = hash_pandas_object(ndjson_df)"
      ],
      "execution_count": null,
      "outputs": []
    },
    {
      "cell_type": "code",
      "source": [
        "# Erstellung einer Liste mit allen DF_hashes zur schnelleren Überprüfung\n",
        "Liste_all_hashes = [vhf_test_df_hashes]"
      ],
      "metadata": {
        "id": "OEdJmrV0v4C-"
      },
      "execution_count": null,
      "outputs": []
    },
    {
      "cell_type": "code",
      "source": [
        "print(Liste_all_hashes)"
      ],
      "metadata": {
        "id": "lezu8pUOwsA6"
      },
      "execution_count": null,
      "outputs": []
    },
    {
      "cell_type": "markdown",
      "metadata": {
        "id": "R45CnT8d4t48"
      },
      "source": [
        "Value should be\n",
        "\n",
        "vhf_test_df_hashes:\n",
        "\n",
        "[0       17529426354928337578\n",
        "\n",
        "1        2455871429837879402\n",
        "\n",
        "2        1471018853899348810\n",
        "\n",
        "3        2277932665246379924\n",
        "\n",
        "4       17288482959361372643 ...\n",
        "\n",
        "9995      669758967202762135\n",
        "\n",
        "9996     1554373930753200219\n",
        "\n",
        "9997     9155407397408540881\n",
        "\n",
        "9998     2854127781713780154\n",
        "\n",
        "9999    14779110686082671103\n",
        "\n",
        "Length: 10000, dtype: uint64]"
      ]
    },
    {
      "cell_type": "code",
      "metadata": {
        "id": "vhqorEFs-OGG"
      },
      "source": [
        "print(vhf_test_df_hashes.sum())"
      ],
      "execution_count": null,
      "outputs": []
    }
  ]
}