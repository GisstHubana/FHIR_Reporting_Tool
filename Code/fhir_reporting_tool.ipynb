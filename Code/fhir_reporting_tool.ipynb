{
  "nbformat": 4,
  "nbformat_minor": 0,
  "metadata": {
    "colab": {
      "provenance": [],
      "include_colab_link": true
    },
    "kernelspec": {
      "name": "python3",
      "display_name": "Python 3"
    },
    "language_info": {
      "name": "python"
    }
  },
  "cells": [
    {
      "cell_type": "markdown",
      "metadata": {
        "id": "view-in-github",
        "colab_type": "text"
      },
      "source": [
        "<a href=\"https://colab.research.google.com/github/GisstHubana/FHIR_Reporting_Tool/blob/GisstHubana-patch-html/Code/fhir_reporting_tool.ipynb\" target=\"_parent\"><img src=\"https://colab.research.google.com/assets/colab-badge.svg\" alt=\"Open In Colab\"/></a>"
      ]
    },
    {
      "cell_type": "markdown",
      "source": [
        "# Vorbereitung\n",
        "## CleanUp - Eventuell gespeicherte Variablen löschen vor Ausführung des Colab books für eine bessere Reproduzierbarkeit"
      ],
      "metadata": {
        "id": "HQXhEho4mh6z"
      }
    },
    {
      "cell_type": "code",
      "execution_count": null,
      "metadata": {
        "id": "oVfQdEd9mZ6g"
      },
      "outputs": [],
      "source": [
        "%reset -f"
      ]
    },
    {
      "cell_type": "markdown",
      "source": [
        "## Installieren notwendiger Pakete"
      ],
      "metadata": {
        "id": "yEoY0ANRO1GQ"
      }
    },
    {
      "cell_type": "code",
      "source": [
        "!pip install pyngrok\n",
        "!pip install flask-ngrok"
      ],
      "metadata": {
        "id": "2ZAE6N8o8wD_"
      },
      "execution_count": null,
      "outputs": []
    },
    {
      "cell_type": "markdown",
      "source": [
        "## gnrok mit Authorizierungstoken verknüpfen"
      ],
      "metadata": {
        "id": "w1VUV_8dO_UQ"
      }
    },
    {
      "cell_type": "code",
      "source": [
        "!ngrok authtoken 2Wlt2vGzytTpJ6zABKGKKwfiTof_7y4sewzGkNGy7zW6GB5oz"
      ],
      "metadata": {
        "id": "KGRrCtnKGha4"
      },
      "execution_count": null,
      "outputs": []
    },
    {
      "cell_type": "markdown",
      "source": [
        "Importieren der notwendigen Libraries"
      ],
      "metadata": {
        "id": "GsstcSbumzlw"
      }
    },
    {
      "cell_type": "code",
      "source": [
        "from flask import Flask, request\n",
        "from flask.templating import render_template\n",
        "from flask_ngrok import run_with_ngrok\n",
        "import secrets\n",
        "import sqlite3"
      ],
      "metadata": {
        "id": "mQFUXdj2m2zl"
      },
      "execution_count": null,
      "outputs": []
    },
    {
      "cell_type": "markdown",
      "source": [
        "Erstellung einer virtuellen Kopie des GitHub Repositorium FHIR_Reporting_Tool in Colab"
      ],
      "metadata": {
        "id": "10bUHuzcm_zr"
      }
    },
    {
      "cell_type": "code",
      "source": [
        "%cd /content # Wechsel in den Ordner /content - für den Fall, dass in einem Unterordner gearbeitet wurde\n",
        "\n",
        "!git clone https://github.com/GisstHubana/FHIR_Reporting_Tool.git #virtuelle Kopie des Repositoriums - Bei Neustart zuvor Runtime/disconnect and delete runtime ausführen\n",
        "!ls # Auflistung aller Ordnerinhalte"
      ],
      "metadata": {
        "id": "nTXaZsiLnJK7"
      },
      "execution_count": null,
      "outputs": []
    },
    {
      "cell_type": "markdown",
      "source": [
        "### Database in Flask\n",
        "\n",
        "#### Use database to match login credentials"
      ],
      "metadata": {
        "id": "h7w2-5X-DMqy"
      }
    },
    {
      "cell_type": "code",
      "source": [
        "import sqlite3\n",
        "db_folder = \"/content/FHIR_Reporting_Tool/\"\n",
        "conn = sqlite3.connect(db_folder+\"mydatabase.db\") # falls Datenbank noch nicht existiert wird sie mit diesem Aufruf erzeugt\n",
        "cursor = conn.cursor()\n",
        "\n",
        "#query\n",
        "create_table_query = \"\"\"\n",
        "CREATE TABLE IF NOT EXISTS users (\n",
        "  id INTEGER PRIMARY KEY AUTOINCREMENT,\n",
        "  username TEXT NOT NULL,\n",
        "  password TEXT NOT NULL\n",
        "\n",
        ")\n",
        "\n",
        "\"\"\"\n",
        "cursor.execute(create_table_query)\n",
        "\n",
        "insert_query = \"\"\"\n",
        "INSERT INTO users(username, password)\n",
        "SELECT ?, ?\n",
        "WHERE NOT EXISTS (\n",
        "  SELECT 1 FROM users WHERE username = ?\n",
        "\n",
        ")\n",
        "\"\"\"\n",
        "user_data = (\"USER3\", \"1234\", \"USER3\")\n",
        "cursor.execute(insert_query, user_data)\n",
        "conn.commit()\n",
        "\n",
        "select_query = \"SELECT * FROM users\"\n",
        "cursor.execute(select_query)\n",
        "rows = cursor.fetchall()\n",
        "for row in rows:\n",
        "  print(row)\n"
      ],
      "metadata": {
        "id": "fRU8bH4yDTIZ"
      },
      "execution_count": null,
      "outputs": []
    },
    {
      "cell_type": "code",
      "source": [
        "template_folder = \"/content/FHIR_Reporting_Tool/templates\"\n",
        "static_folder = \"/content/FHIR_Reporting_Tool/static\"\n",
        "db_folder = \"/content/FHIR_Reporting_Tool/\"\n",
        "app = Flask(__name__, template_folder=template_folder, static_folder=static_folder) # Flask-App, Benennung template-Ordner\n",
        "# app.debug = True # Debug-Modus aktivieren - webseite lädt nicht wenn eingeschaltet\n",
        "app.secret_key = secrets.token_hex(32)\n",
        "run_with_ngrok(app) # run_with_ngrok Funktion hinzufügen, um App mit ngrok auszuführen\n",
        "\n",
        "@app.route('/', methods=[\"GET\", \"POST\"])\n",
        "def login():\n",
        "\n",
        "  if request.method == \"POST\":\n",
        "    username = request.form.get(\"username\")\n",
        "    password = request.form.get(\"password\")\n",
        "\n",
        "    conn = sqlite3.connect(db_folder+\"mydatabase.db\") # falls Datenbank noch nicht existiert wird sie mit diesem Aufruf erzeugt\n",
        "    cursor = conn.cursor()\n",
        "    # query\n",
        "    query = \"\"\"\n",
        "    SELECT * FROM users WHERE username = ? AND password = ?\n",
        "    \"\"\"\n",
        "    cursor.execute(query, (username, password))\n",
        "    result = cursor.fetchone()\n",
        "\n",
        "    if result:\n",
        "     return render_template(\"page2.html\", name=username)\n",
        "    else:\n",
        "      message = \"Wrong username or password. Please try again!\"\n",
        "      return render_template(\"login.html\", message=message)\n",
        "\n",
        "  else:\n",
        "    return render_template(\"login.html\")\n",
        "\n",
        "@app.route('/home') # Erstellung einer Routendefinition home\n",
        "def index():\n",
        "    return render_template(\"index.html\")\n",
        "\n",
        "@app.route('/page2')\n",
        "def page2():\n",
        "    username = input(\"Enter your name:\")\n",
        "    return render_template(\"page2.html\", name=username)\n",
        "\n",
        "@app.route('/page3')\n",
        "def page3():\n",
        "    return render_template(\"page3.html\")\n",
        "\n",
        "app.run()"
      ],
      "metadata": {
        "id": "WFUd0_oCJYdi"
      },
      "execution_count": null,
      "outputs": []
    },
    {
      "cell_type": "markdown",
      "source": [
        "## Abschluss - Runtime löschen und abschließend clear all outputs"
      ],
      "metadata": {
        "id": "YGXtJQoh3zOM"
      }
    },
    {
      "cell_type": "code",
      "source": [
        "# Bei Neustart zuvor Runtime/disconnect and delete runtime ausführen\n",
        "from google.colab import runtime\n",
        "runtime.unassign() # delete runtime"
      ],
      "metadata": {
        "id": "-lRyw7vD3uf1"
      },
      "execution_count": null,
      "outputs": []
    }
  ]
}