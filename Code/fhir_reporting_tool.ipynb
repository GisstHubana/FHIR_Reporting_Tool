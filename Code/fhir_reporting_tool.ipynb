{
  "nbformat": 4,
  "nbformat_minor": 0,
  "metadata": {
    "colab": {
      "provenance": [],
      "authorship_tag": "ABX9TyMnLmABgOxVX/+05+09mroD",
      "include_colab_link": true
    },
    "kernelspec": {
      "name": "python3",
      "display_name": "Python 3"
    },
    "language_info": {
      "name": "python"
    }
  },
  "cells": [
    {
      "cell_type": "markdown",
      "metadata": {
        "id": "view-in-github",
        "colab_type": "text"
      },
      "source": [
        "<a href=\"https://colab.research.google.com/github/GisstHubana/FHIR_Reporting_Tool/blob/GisstHubana-patch-1/Code/fhir_reporting_tool.ipynb\" target=\"_parent\"><img src=\"https://colab.research.google.com/assets/colab-badge.svg\" alt=\"Open In Colab\"/></a>"
      ]
    },
    {
      "cell_type": "markdown",
      "source": [
        "# Vorbereitung\n",
        "CleanUp - Eventuell gespeicherte Variablen löschen vor Ausführung des Colab books für eine bessere Reproduzierbarkeit"
      ],
      "metadata": {
        "id": "HQXhEho4mh6z"
      }
    },
    {
      "cell_type": "code",
      "execution_count": null,
      "metadata": {
        "id": "oVfQdEd9mZ6g"
      },
      "outputs": [],
      "source": [
        "%reset -f"
      ]
    },
    {
      "cell_type": "markdown",
      "source": [
        "Importieren der notwendigen Libraries"
      ],
      "metadata": {
        "id": "GsstcSbumzlw"
      }
    },
    {
      "cell_type": "code",
      "source": [
        "# import sqlite3"
      ],
      "metadata": {
        "id": "mQFUXdj2m2zl"
      },
      "execution_count": null,
      "outputs": []
    },
    {
      "cell_type": "markdown",
      "source": [
        "Erstellung einer virtuellen Kopie des GitHub Repositorium FHIR_Reporting_Tool in Colab"
      ],
      "metadata": {
        "id": "10bUHuzcm_zr"
      }
    },
    {
      "cell_type": "code",
      "source": [
        "!git clone https://github.com/GisstHubana/FHIR_Reporting_Tool.git"
      ],
      "metadata": {
        "id": "nTXaZsiLnJK7"
      },
      "execution_count": null,
      "outputs": []
    },
    {
      "cell_type": "code",
      "source": [
        "# Wechsel in den Unterordner csv_data des Github-Projekt-Ordners\n",
        "# %cd /content/FHIR_Reporting_Tool/ordner"
      ],
      "metadata": {
        "id": "Aw37T6XanYYj"
      },
      "execution_count": null,
      "outputs": []
    },
    {
      "cell_type": "code",
      "source": [
        "# Auflistung aller Ordnerinhalte\n",
        "!ls"
      ],
      "metadata": {
        "id": "cfGc7G02n02h"
      },
      "execution_count": null,
      "outputs": []
    }
  ]
}